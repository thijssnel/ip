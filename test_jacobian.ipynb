{
 "cells": [
  {
   "cell_type": "code",
   "execution_count": 1,
   "id": "d9690232",
   "metadata": {},
   "outputs": [],
   "source": [
    "from jacobian import industrial_robot"
   ]
  },
  {
   "cell_type": "code",
   "execution_count": 11,
   "id": "443d6f85",
   "metadata": {},
   "outputs": [],
   "source": [
    "robot ={0:'xy,z,1',\n",
    "        1:'yz,y,2',\n",
    "        2:'yz,y,1',\n",
    "        3:'yz,y,0.5',\n",
    "        4:'xz,y,0.5',\n",
    "        5:'yz,y,0.2',\n",
    "        6:'ee,y,0.5'}\n",
    "\n",
    "test = industrial_robot(robot)\n",
    "J_sym = test.jacobian"
   ]
  },
  {
   "cell_type": "code",
   "execution_count": 13,
   "id": "36fc08a2",
   "metadata": {},
   "outputs": [
    {
     "ename": "TypeError",
     "evalue": "can't multiply sequence by non-int of type 'ImmutableDenseMatrix'",
     "output_type": "error",
     "traceback": [
      "\u001b[0;31m---------------------------------------------------------------------------\u001b[0m",
      "\u001b[0;31mTypeError\u001b[0m                                 Traceback (most recent call last)",
      "Cell \u001b[0;32mIn[13], line 2\u001b[0m\n\u001b[1;32m      1\u001b[0m \u001b[38;5;66;03m# Option 1 – Substitute values\u001b[39;00m\n\u001b[0;32m----> 2\u001b[0m J_subs \u001b[38;5;241m=\u001b[39m \u001b[43mJ_sym\u001b[49m\u001b[38;5;241;43m*\u001b[39;49m\u001b[43m[\u001b[49m\u001b[38;5;241;43m0.1\u001b[39;49m\u001b[43m,\u001b[49m\u001b[43m \u001b[49m\u001b[38;5;241;43m0.2\u001b[39;49m\u001b[43m,\u001b[49m\u001b[43m \u001b[49m\u001b[38;5;241;43m0.3\u001b[39;49m\u001b[43m,\u001b[49m\u001b[43m \u001b[49m\u001b[38;5;241;43m0.4\u001b[39;49m\u001b[43m,\u001b[49m\u001b[43m \u001b[49m\u001b[38;5;241;43m0.5\u001b[39;49m\u001b[43m,\u001b[49m\u001b[43m \u001b[49m\u001b[38;5;241;43m0.6\u001b[39;49m\u001b[43m,\u001b[49m\u001b[43m \u001b[49m\u001b[38;5;241;43m0.7\u001b[39;49m\u001b[43m]\u001b[49m\n\u001b[1;32m      3\u001b[0m \u001b[38;5;28mprint\u001b[39m(J_subs)\n",
      "\u001b[0;31mTypeError\u001b[0m: can't multiply sequence by non-int of type 'ImmutableDenseMatrix'"
     ]
    }
   ],
   "source": [
    "# Option 1 – Substitute values\n",
    "J_subs = J_sym*[0.1, 0.2, 0.3, 0.4, 0.5, 0.6, 0.7]\n",
    "print(J_subs)"
   ]
  },
  {
   "cell_type": "code",
   "execution_count": null,
   "id": "f0fa1e2f",
   "metadata": {},
   "outputs": [
    {
     "name": "stdout",
     "output_type": "stream",
     "text": [
      "['x', 'y', 'z']\n"
     ]
    }
   ],
   "source": [
    "string = \"x,y,z\"\n",
    "string = string.split(',')\n",
    "print(string)"
   ]
  },
  {
   "cell_type": "code",
   "execution_count": null,
   "id": "e9dba8a0",
   "metadata": {},
   "outputs": [],
   "source": []
  }
 ],
 "metadata": {
  "kernelspec": {
   "display_name": ".venv",
   "language": "python",
   "name": "python3"
  },
  "language_info": {
   "codemirror_mode": {
    "name": "ipython",
    "version": 3
   },
   "file_extension": ".py",
   "mimetype": "text/x-python",
   "name": "python",
   "nbconvert_exporter": "python",
   "pygments_lexer": "ipython3",
   "version": "3.12.3"
  }
 },
 "nbformat": 4,
 "nbformat_minor": 5
}
